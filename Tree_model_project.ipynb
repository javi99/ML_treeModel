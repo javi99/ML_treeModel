{
  "cells": [
    {
      "cell_type": "markdown",
      "metadata": {
        "id": "Fn33H3Zhf-cp"
      },
      "source": [
        "<img src = \"https://github.com/barcelonagse-datascience/academic_files/raw/master/bgsedsc_0.jpg\">\n",
        "$\\newcommand{\\bb}{\\boldsymbol{\\beta}}$\n",
        "$\\DeclareMathOperator{\\Gau}{\\mathcal{N}}$\n",
        "$\\newcommand{\\bphi}{\\boldsymbol \\phi}$\n",
        "$\\newcommand{\\bx}{\\boldsymbol{x}}$\n",
        "$\\newcommand{\\bu}{\\boldsymbol{u}}$\n",
        "$\\newcommand{\\by}{\\boldsymbol{y}}$\n",
        "$\\newcommand{\\whbb}{\\widehat{\\bb}}$\n",
        "$\\newcommand{\\hf}{\\hat{f}}$\n",
        "$\\newcommand{\\tf}{\\tilde{f}}$\n",
        "$\\newcommand{\\ybar}{\\overline{y}}$\n",
        "$\\newcommand{\\E}{\\mathbb{E}}$\n",
        "$\\newcommand{\\Var}{Var}$\n",
        "$\\newcommand{\\Cov}{Cov}$\n",
        "$\\newcommand{\\Cor}{Cor}$"
      ]
    },
    {
      "cell_type": "markdown",
      "metadata": {
        "id": "Sjc3OcApf-cq"
      },
      "source": [
        "## Customer Churn Analysis and Classification\n",
        "\n",
        "With the rapid development of telecommunication industry, the service providers are inclined more towards expansion of the subscriber base. To meet the need of surviving in the competitive environment, the retention of existing customers has become a huge challenge. It is stated that the cost of acquiring a new customer is far more than that for retaining the existing one. Therefore, it is imperative for the telecom industries to use advanced analytics to understand consumer behavior and in-turn predict the association of the customers as whether or not they will leave the company.\n",
        "\n",
        "You are given a dataset: each row represents a customer and each column contains attributes related to customer as described:\n",
        "\n",
        "+ Churn (target): 1 if customer cancelled service, 0 if not\n",
        "+ AccountWeeks: number of weeks customer has had active account\n",
        "+ ContractRenewal: 1 if customer recently renewed contract, 0 if not\n",
        "+ DataPlan: 1 if customer has data plan, 0 if not\n",
        "+ DataUsage: gigabytes of monthly data usage\n",
        "+ CustServCalls: number of calls into customer service\n",
        "+ DayMins: average daytime minutes per month\n",
        "+ DayCalls: average number of daytime calls\n",
        "+ MonthlyCharge: average monthly bill\n",
        "+ OverageFee: largest overage fee in last 12 months\n",
        "+ RoamMins: average number of roaming minutes\n",
        "\n",
        "\n",
        "You are asked to **develop an algorithm** to be able to assess which are the customers that have the highest probability to churn. Besides that you will be asked to answer the 3 following questions:\n",
        "\n",
        "1. **What variables are contributing to customer churn?** \n",
        "2. **Who are the customers more likely to churn?**\n",
        "3. **What actions can be taken to stop them from leaving?**\n",
        "\n",
        "\n",
        "You can follow those **steps** in your first implementation:\n",
        "1. *Explore* and understand the dataset. \n",
        "2. Create extra variables if needed/possible\n",
        "3. *Build* your model and test it on the same input data\n",
        "4. Assess expected accuracy using *cross-validation*\n",
        "5. Tune the hyperparameters of your model\n",
        "6. Repeat steps 4 and 5 until you find the best model possible\n",
        "7. Answer the questions asked"
      ]
    },
    {
      "cell_type": "markdown",
      "metadata": {
        "id": "Qisxys_SlKq8"
      },
      "source": [
        "## Main criteria for grading\n",
        "+ Algorithm implemented\n",
        "+ AUC score given\n",
        "+ At least Random Forest and Xgboost are used\n",
        "+ Data preparation and exploration\n",
        "+ Hyperparameter optimization \n",
        "+ Cross-validation used\n",
        "+ Code is combined with neat and understandable commentary, with some titles and comments "
      ]
    },
    {
      "cell_type": "markdown",
      "metadata": {
        "id": "SExXhoZ2spYD"
      },
      "source": [
        "#Importing libraries and loading the dataset"
      ]
    },
    {
      "cell_type": "code",
      "execution_count": 55,
      "metadata": {
        "id": "PLmr93JVCddG"
      },
      "outputs": [],
      "source": [
        "#importing libraries\n",
        "import matplotlib.pyplot as plt\n",
        "import numpy as np\n",
        "import pandas as pd\n",
        "\n",
        "#for scaling\n",
        "from sklearn.preprocessing import StandardScaler\n",
        "\n",
        "#for plotting\n",
        "#correlations matrix\n",
        "import seaborn as sns \n",
        "\n",
        "#MODEL\n",
        "#train-test split\n",
        "from sklearn.model_selection import train_test_split\n",
        "\n",
        "#kfold creation\n",
        "from sklearn.model_selection import KFold\n",
        "\n",
        "#RandomizedSearch for hyperParameter tunning\n",
        "from sklearn.model_selection import RandomizedSearchCV\n",
        "\n",
        "#RandomForest\n",
        "from sklearn.ensemble import RandomForestClassifier, RandomForestRegressor\n",
        "import sklearn.tree as tree\n",
        "\n",
        "#metrics\n",
        "from sklearn.metrics import f1_score, accuracy_score, recall_score,\\\n",
        "                          plot_confusion_matrix"
      ]
    },
    {
      "cell_type": "code",
      "execution_count": 2,
      "metadata": {
        "colab": {
          "base_uri": "https://localhost:8080/"
        },
        "id": "rHn-BiAMCddG",
        "outputId": "6d7c53ee-db59-439b-dd60-735dddbccf66"
      },
      "outputs": [
        {
          "output_type": "stream",
          "name": "stdout",
          "text": [
            "Mounted at /content/drive\n"
          ]
        }
      ],
      "source": [
        "#loading dataset\n",
        "from google.colab import drive\n",
        "drive.mount('/content/drive')\n",
        "path_marcelo = \"\"\n",
        "path_ben = \"\"\n",
        "path_javier = \"/content/drive/MyDrive/BSE/Computational Machine learning/assignments/Tree_based_models_project/\""
      ]
    },
    {
      "cell_type": "code",
      "source": [
        "#loading train data\n",
        "df =  pd.read_csv(path_javier + \"churn_data.csv\", sep = \";\", decimal = \".\")\n",
        "df_copy = df.copy()\n",
        "df_copy.info()"
      ],
      "metadata": {
        "colab": {
          "base_uri": "https://localhost:8080/"
        },
        "id": "3cO3s_14OLCQ",
        "outputId": "04b317ea-9061-401c-9ee4-839d047a1901"
      },
      "execution_count": 3,
      "outputs": [
        {
          "output_type": "stream",
          "name": "stdout",
          "text": [
            "<class 'pandas.core.frame.DataFrame'>\n",
            "RangeIndex: 3333 entries, 0 to 3332\n",
            "Data columns (total 11 columns):\n",
            " #   Column           Non-Null Count  Dtype  \n",
            "---  ------           --------------  -----  \n",
            " 0   Churn            3333 non-null   int64  \n",
            " 1   AccountWeeks     3333 non-null   int64  \n",
            " 2   ContractRenewal  3333 non-null   int64  \n",
            " 3   DataPlan         3333 non-null   int64  \n",
            " 4   DataUsage        3333 non-null   float64\n",
            " 5   CustServCalls    3333 non-null   int64  \n",
            " 6   DayMins          3333 non-null   float64\n",
            " 7   DayCalls         3333 non-null   int64  \n",
            " 8   MonthlyCharge    3333 non-null   float64\n",
            " 9   OverageFee       3333 non-null   float64\n",
            " 10  RoamMins         3333 non-null   float64\n",
            "dtypes: float64(5), int64(6)\n",
            "memory usage: 286.6 KB\n"
          ]
        }
      ]
    },
    {
      "cell_type": "code",
      "source": [
        "df.head(4)"
      ],
      "metadata": {
        "colab": {
          "base_uri": "https://localhost:8080/",
          "height": 175
        },
        "id": "-Ace7b-DQZYl",
        "outputId": "e8bb49ac-95c2-4829-d096-f238923a7188"
      },
      "execution_count": 4,
      "outputs": [
        {
          "output_type": "execute_result",
          "data": {
            "text/plain": [
              "   Churn  AccountWeeks  ContractRenewal  DataPlan  DataUsage  CustServCalls  \\\n",
              "0      0           128                1         1        2.7              1   \n",
              "1      0           107                1         1        3.7              1   \n",
              "2      0           137                1         0        0.0              0   \n",
              "3      0            84                0         0        0.0              2   \n",
              "\n",
              "   DayMins  DayCalls  MonthlyCharge  OverageFee  RoamMins  \n",
              "0    265.1       110           89.0        9.87      10.0  \n",
              "1    161.6       123           82.0        9.78      13.7  \n",
              "2    243.4       114           52.0        6.06      12.2  \n",
              "3    299.4        71           57.0        3.10       6.6  "
            ],
            "text/html": [
              "\n",
              "  <div id=\"df-90d38717-b9a8-44a4-ada4-3ceabc9f0aff\">\n",
              "    <div class=\"colab-df-container\">\n",
              "      <div>\n",
              "<style scoped>\n",
              "    .dataframe tbody tr th:only-of-type {\n",
              "        vertical-align: middle;\n",
              "    }\n",
              "\n",
              "    .dataframe tbody tr th {\n",
              "        vertical-align: top;\n",
              "    }\n",
              "\n",
              "    .dataframe thead th {\n",
              "        text-align: right;\n",
              "    }\n",
              "</style>\n",
              "<table border=\"1\" class=\"dataframe\">\n",
              "  <thead>\n",
              "    <tr style=\"text-align: right;\">\n",
              "      <th></th>\n",
              "      <th>Churn</th>\n",
              "      <th>AccountWeeks</th>\n",
              "      <th>ContractRenewal</th>\n",
              "      <th>DataPlan</th>\n",
              "      <th>DataUsage</th>\n",
              "      <th>CustServCalls</th>\n",
              "      <th>DayMins</th>\n",
              "      <th>DayCalls</th>\n",
              "      <th>MonthlyCharge</th>\n",
              "      <th>OverageFee</th>\n",
              "      <th>RoamMins</th>\n",
              "    </tr>\n",
              "  </thead>\n",
              "  <tbody>\n",
              "    <tr>\n",
              "      <th>0</th>\n",
              "      <td>0</td>\n",
              "      <td>128</td>\n",
              "      <td>1</td>\n",
              "      <td>1</td>\n",
              "      <td>2.7</td>\n",
              "      <td>1</td>\n",
              "      <td>265.1</td>\n",
              "      <td>110</td>\n",
              "      <td>89.0</td>\n",
              "      <td>9.87</td>\n",
              "      <td>10.0</td>\n",
              "    </tr>\n",
              "    <tr>\n",
              "      <th>1</th>\n",
              "      <td>0</td>\n",
              "      <td>107</td>\n",
              "      <td>1</td>\n",
              "      <td>1</td>\n",
              "      <td>3.7</td>\n",
              "      <td>1</td>\n",
              "      <td>161.6</td>\n",
              "      <td>123</td>\n",
              "      <td>82.0</td>\n",
              "      <td>9.78</td>\n",
              "      <td>13.7</td>\n",
              "    </tr>\n",
              "    <tr>\n",
              "      <th>2</th>\n",
              "      <td>0</td>\n",
              "      <td>137</td>\n",
              "      <td>1</td>\n",
              "      <td>0</td>\n",
              "      <td>0.0</td>\n",
              "      <td>0</td>\n",
              "      <td>243.4</td>\n",
              "      <td>114</td>\n",
              "      <td>52.0</td>\n",
              "      <td>6.06</td>\n",
              "      <td>12.2</td>\n",
              "    </tr>\n",
              "    <tr>\n",
              "      <th>3</th>\n",
              "      <td>0</td>\n",
              "      <td>84</td>\n",
              "      <td>0</td>\n",
              "      <td>0</td>\n",
              "      <td>0.0</td>\n",
              "      <td>2</td>\n",
              "      <td>299.4</td>\n",
              "      <td>71</td>\n",
              "      <td>57.0</td>\n",
              "      <td>3.10</td>\n",
              "      <td>6.6</td>\n",
              "    </tr>\n",
              "  </tbody>\n",
              "</table>\n",
              "</div>\n",
              "      <button class=\"colab-df-convert\" onclick=\"convertToInteractive('df-90d38717-b9a8-44a4-ada4-3ceabc9f0aff')\"\n",
              "              title=\"Convert this dataframe to an interactive table.\"\n",
              "              style=\"display:none;\">\n",
              "        \n",
              "  <svg xmlns=\"http://www.w3.org/2000/svg\" height=\"24px\"viewBox=\"0 0 24 24\"\n",
              "       width=\"24px\">\n",
              "    <path d=\"M0 0h24v24H0V0z\" fill=\"none\"/>\n",
              "    <path d=\"M18.56 5.44l.94 2.06.94-2.06 2.06-.94-2.06-.94-.94-2.06-.94 2.06-2.06.94zm-11 1L8.5 8.5l.94-2.06 2.06-.94-2.06-.94L8.5 2.5l-.94 2.06-2.06.94zm10 10l.94 2.06.94-2.06 2.06-.94-2.06-.94-.94-2.06-.94 2.06-2.06.94z\"/><path d=\"M17.41 7.96l-1.37-1.37c-.4-.4-.92-.59-1.43-.59-.52 0-1.04.2-1.43.59L10.3 9.45l-7.72 7.72c-.78.78-.78 2.05 0 2.83L4 21.41c.39.39.9.59 1.41.59.51 0 1.02-.2 1.41-.59l7.78-7.78 2.81-2.81c.8-.78.8-2.07 0-2.86zM5.41 20L4 18.59l7.72-7.72 1.47 1.35L5.41 20z\"/>\n",
              "  </svg>\n",
              "      </button>\n",
              "      \n",
              "  <style>\n",
              "    .colab-df-container {\n",
              "      display:flex;\n",
              "      flex-wrap:wrap;\n",
              "      gap: 12px;\n",
              "    }\n",
              "\n",
              "    .colab-df-convert {\n",
              "      background-color: #E8F0FE;\n",
              "      border: none;\n",
              "      border-radius: 50%;\n",
              "      cursor: pointer;\n",
              "      display: none;\n",
              "      fill: #1967D2;\n",
              "      height: 32px;\n",
              "      padding: 0 0 0 0;\n",
              "      width: 32px;\n",
              "    }\n",
              "\n",
              "    .colab-df-convert:hover {\n",
              "      background-color: #E2EBFA;\n",
              "      box-shadow: 0px 1px 2px rgba(60, 64, 67, 0.3), 0px 1px 3px 1px rgba(60, 64, 67, 0.15);\n",
              "      fill: #174EA6;\n",
              "    }\n",
              "\n",
              "    [theme=dark] .colab-df-convert {\n",
              "      background-color: #3B4455;\n",
              "      fill: #D2E3FC;\n",
              "    }\n",
              "\n",
              "    [theme=dark] .colab-df-convert:hover {\n",
              "      background-color: #434B5C;\n",
              "      box-shadow: 0px 1px 3px 1px rgba(0, 0, 0, 0.15);\n",
              "      filter: drop-shadow(0px 1px 2px rgba(0, 0, 0, 0.3));\n",
              "      fill: #FFFFFF;\n",
              "    }\n",
              "  </style>\n",
              "\n",
              "      <script>\n",
              "        const buttonEl =\n",
              "          document.querySelector('#df-90d38717-b9a8-44a4-ada4-3ceabc9f0aff button.colab-df-convert');\n",
              "        buttonEl.style.display =\n",
              "          google.colab.kernel.accessAllowed ? 'block' : 'none';\n",
              "\n",
              "        async function convertToInteractive(key) {\n",
              "          const element = document.querySelector('#df-90d38717-b9a8-44a4-ada4-3ceabc9f0aff');\n",
              "          const dataTable =\n",
              "            await google.colab.kernel.invokeFunction('convertToInteractive',\n",
              "                                                     [key], {});\n",
              "          if (!dataTable) return;\n",
              "\n",
              "          const docLinkHtml = 'Like what you see? Visit the ' +\n",
              "            '<a target=\"_blank\" href=https://colab.research.google.com/notebooks/data_table.ipynb>data table notebook</a>'\n",
              "            + ' to learn more about interactive tables.';\n",
              "          element.innerHTML = '';\n",
              "          dataTable['output_type'] = 'display_data';\n",
              "          await google.colab.output.renderOutput(dataTable, element);\n",
              "          const docLink = document.createElement('div');\n",
              "          docLink.innerHTML = docLinkHtml;\n",
              "          element.appendChild(docLink);\n",
              "        }\n",
              "      </script>\n",
              "    </div>\n",
              "  </div>\n",
              "  "
            ]
          },
          "metadata": {},
          "execution_count": 4
        }
      ]
    },
    {
      "cell_type": "markdown",
      "source": [
        "# Defining Functions and important vars"
      ],
      "metadata": {
        "id": "gMa-FE3TO7jE"
      }
    },
    {
      "cell_type": "code",
      "source": [
        "def check_categoricals_and_binaries(df, max_dif_cat_considered):\n",
        "  \"\"\"It gets the variables that are binary or categorical by checking first if the\n",
        "  type of the variable is integer or string(we asume categorical values\n",
        "  are integers and strings) and then if the number of possible values are 2 (binary) \n",
        "  or between 2 or a specified number of values (categorical). The inputs are\n",
        "  the DataFrame and the int max_dif_cat_considered. The output is a list of names\n",
        "  for the binary vars, and a dict for the categoricals with name : quantity of values.\n",
        "  \"\"\"\n",
        "  categoricals = dict()\n",
        "  binaries = list()\n",
        "  for column in df.columns:\n",
        "    dif_pos_values = len(df[column].unique())\n",
        "    if dif_pos_values == 2:\n",
        "      binaries.append(column)\n",
        "    elif dif_pos_values > 2 and dif_pos_values < max_dif_cat_considered:\n",
        "      categoricals[column] = dif_pos_values\n",
        "  return binaries, categoricals\n",
        "\n",
        "\n",
        "def check_outliers(df, vars_without_outliers):\n",
        "  \"\"\"It gets the df and a list of variables that dont have outliers (categorical\n",
        "  and binary vars) and returns a dictionary with the total number of outliers\n",
        "  and the index of them for each var that HAS outliers\n",
        "  \"\"\"\n",
        "  outliers = dict()\n",
        "  for column in df.columns:\n",
        "    if column in vars_without_outliers:\n",
        "      continue\n",
        "    else:\n",
        "      q25, q75 = np.quantile(df[column], 0.25), np.quantile(df[column], 0.75)\n",
        "\n",
        "      IQR = q75 - q25\n",
        "      lower,upper = q25 - IQR*1.5, q75 + IQR*1.5\n",
        "      outliers_index = ((df[column] < lower) | (df[column] > upper))\n",
        "\n",
        "      if len(outliers_index == True) == 0:\n",
        "        continue\n",
        "      else:\n",
        "        output = {\n",
        "            \"indexes\" : outliers_index,\n",
        "            \"quantity\" : outliers_index.sum(axis = 0)\n",
        "        }\n",
        "        outliers[column] = output\n",
        "  return outliers\n",
        "\n",
        "def outliers_printer(df, vars_list):\n",
        "  i=1\n",
        "  plt.figure(figsize = (20,10))\n",
        "  for col in vars_list:\n",
        "   \n",
        "    plt.subplot(3,3,i)\n",
        "    sns.boxplot(df[col])\n",
        "\n",
        "    i=i+1\n",
        "\n",
        "def careful_standardization(df, not_standardize_list):\n",
        "  \"\"\" This function receives the DataFrame and a list of variables not to standardize\n",
        "  (for example the target, binary variables, or dummy variables(categorical vars\n",
        "  should have been dummified). Also can receive sub strings of dummified categorical vars.\n",
        "  For example, neigborhoodcode when dummified turns into neigborhoodcode_1, neigborhoodcode_2...\n",
        "  so by putting the string 'neigborhoodcode_' inside the list no dummy of 'neigborhoodcode_' will\n",
        "  be standardized). The output is the same DataFrame with all the other columns standardized. \n",
        "  \"\"\"\n",
        "  standardize_vars_cols = []\n",
        "  dummy_vars_and_y = []\n",
        "\n",
        "  for column in df.columns:\n",
        "    for element in not_standardize_list:\n",
        "    \n",
        "      if element in column:\n",
        "        save = False\n",
        "        break\n",
        "      else:\n",
        "        save = True\n",
        "\n",
        "    if save:\n",
        "      standardize_vars_cols.append(column)\n",
        "    else:\n",
        "      dummy_vars_and_y.append(column)\n",
        "\n",
        "  # scaler\n",
        "  scaler = StandardScaler().fit(df[standardize_vars_cols])\n",
        "  scaled_features = scaler.transform(df[standardize_vars_cols])\n",
        "  df_scaled = pd.DataFrame(scaled_features, index = df.index, columns = df[standardize_vars_cols].columns)\n",
        "  df_scaled[dummy_vars_and_y] = df[dummy_vars_and_y]\n",
        "\n",
        "  return df_scaled\n",
        "\n",
        "def CV_model(X , y, kf, model):\n",
        "  best_f1 = 0\n",
        "  final_model = None\n",
        "  final_y_pred = None\n",
        "  metrics = None\n",
        "\n",
        "  accuracies = []\n",
        "  recalls = []\n",
        "  f1s = []\n",
        "\n",
        "  for train_index, test_index in kf.split(X):\n",
        "\n",
        "    X_train, X_test = np.matrix(X)[train_index], np.matrix(X)[test_index]\n",
        "    y_train, y_test = np.array(y)[train_index], np.array(y)[test_index]\n",
        "\n",
        "    model.fit(X_train, y_train)\n",
        "    y_pred = model.predict(X_test)\n",
        "\n",
        "    f1_sc = f1_score(y_test, y_pred)\n",
        "\n",
        "    f1s.append(f1_sc)\n",
        "    accuracies.append(accuracy_score(y_test, y_pred))\n",
        "    recalls.append(recall_score(y_test, y_pred))\n",
        "\n",
        "    if f1_sc > best_f1:\n",
        "      \n",
        "      final_model = model\n",
        "      final_y_pred = y_pred\n",
        "      best_f1 = f1_sc\n",
        "\n",
        "    \n",
        "\n",
        "    return final_model, final_y_pred, metrics"
      ],
      "metadata": {
        "id": "NSExXK9xOaQD"
      },
      "execution_count": 57,
      "outputs": []
    },
    {
      "cell_type": "code",
      "source": [
        "#defining global vars that will be used through the project\n",
        "TARGET = \"Churn\"\n",
        "SEED = 1  #this var is for random states so we dont change it by mistake from one step to anodet (for consistency)\n",
        "          #and putting this name will help with readibility too"
      ],
      "metadata": {
        "id": "5bttHSj0jQHr"
      },
      "execution_count": 6,
      "outputs": []
    },
    {
      "cell_type": "markdown",
      "source": [
        "# Working the Data"
      ],
      "metadata": {
        "id": "H1DDdJNEaGZc"
      }
    },
    {
      "cell_type": "code",
      "source": [
        "#detecting binary and categorical vars\n",
        "binaries, categoricals = check_categoricals_and_binaries(df_copy, 50)\n",
        "print(binaries)\n",
        "print(categoricals)"
      ],
      "metadata": {
        "colab": {
          "base_uri": "https://localhost:8080/"
        },
        "id": "QAMs5iNeQNnY",
        "outputId": "bb6fb1da-b2f6-45e3-d813-a29546f5e3a6"
      },
      "execution_count": 7,
      "outputs": [
        {
          "output_type": "stream",
          "name": "stdout",
          "text": [
            "['Churn', 'ContractRenewal', 'DataPlan']\n",
            "{'CustServCalls': 10}\n"
          ]
        }
      ]
    },
    {
      "cell_type": "code",
      "source": [
        "#detecting vars with outliers\n",
        "vars_without_outliers = binaries + list(categoricals.keys())\n",
        "outliers = check_outliers(df_copy, vars_without_outliers)\n",
        "\n",
        "print(outliers.keys())"
      ],
      "metadata": {
        "colab": {
          "base_uri": "https://localhost:8080/"
        },
        "id": "S9omfSZHUaTc",
        "outputId": "74b8f0b3-05c9-4269-b378-0c1b443151de"
      },
      "execution_count": 8,
      "outputs": [
        {
          "output_type": "stream",
          "name": "stdout",
          "text": [
            "dict_keys(['AccountWeeks', 'DataUsage', 'DayMins', 'DayCalls', 'MonthlyCharge', 'OverageFee', 'RoamMins'])\n"
          ]
        }
      ]
    },
    {
      "cell_type": "code",
      "source": [
        "#visualizing outliers\n",
        "outliers_printer(df_copy, outliers.keys())"
      ],
      "metadata": {
        "colab": {
          "base_uri": "https://localhost:8080/",
          "height": 876
        },
        "id": "i6Wuqm-f_EuD",
        "outputId": "04432be9-b631-4bb1-c123-95f79d9aef53"
      },
      "execution_count": 9,
      "outputs": [
        {
          "output_type": "stream",
          "name": "stderr",
          "text": [
            "/usr/local/lib/python3.7/dist-packages/seaborn/_decorators.py:43: FutureWarning: Pass the following variable as a keyword arg: x. From version 0.12, the only valid positional argument will be `data`, and passing other arguments without an explicit keyword will result in an error or misinterpretation.\n",
            "  FutureWarning\n",
            "/usr/local/lib/python3.7/dist-packages/seaborn/_decorators.py:43: FutureWarning: Pass the following variable as a keyword arg: x. From version 0.12, the only valid positional argument will be `data`, and passing other arguments without an explicit keyword will result in an error or misinterpretation.\n",
            "  FutureWarning\n",
            "/usr/local/lib/python3.7/dist-packages/seaborn/_decorators.py:43: FutureWarning: Pass the following variable as a keyword arg: x. From version 0.12, the only valid positional argument will be `data`, and passing other arguments without an explicit keyword will result in an error or misinterpretation.\n",
            "  FutureWarning\n",
            "/usr/local/lib/python3.7/dist-packages/seaborn/_decorators.py:43: FutureWarning: Pass the following variable as a keyword arg: x. From version 0.12, the only valid positional argument will be `data`, and passing other arguments without an explicit keyword will result in an error or misinterpretation.\n",
            "  FutureWarning\n",
            "/usr/local/lib/python3.7/dist-packages/seaborn/_decorators.py:43: FutureWarning: Pass the following variable as a keyword arg: x. From version 0.12, the only valid positional argument will be `data`, and passing other arguments without an explicit keyword will result in an error or misinterpretation.\n",
            "  FutureWarning\n",
            "/usr/local/lib/python3.7/dist-packages/seaborn/_decorators.py:43: FutureWarning: Pass the following variable as a keyword arg: x. From version 0.12, the only valid positional argument will be `data`, and passing other arguments without an explicit keyword will result in an error or misinterpretation.\n",
            "  FutureWarning\n",
            "/usr/local/lib/python3.7/dist-packages/seaborn/_decorators.py:43: FutureWarning: Pass the following variable as a keyword arg: x. From version 0.12, the only valid positional argument will be `data`, and passing other arguments without an explicit keyword will result in an error or misinterpretation.\n",
            "  FutureWarning\n"
          ]
        },
        {
          "output_type": "display_data",
          "data": {
            "text/plain": [
              "<Figure size 1440x720 with 7 Axes>"
            ],
            "image/png": "[encoded data removed]"
          },
          "metadata": {
            "needs_background": "light"
          }
        }
      ]
    },
    {
      "cell_type": "code",
      "source": [
        "#fixing outliers? maybe but not sure"
      ],
      "metadata": {
        "id": "Tk7TWxM3fMZc"
      },
      "execution_count": null,
      "outputs": []
    },
    {
      "cell_type": "code",
      "source": [
        "#analyzing vars distribution to see if logs are needed"
      ],
      "metadata": {
        "id": "aErSVd2Qe4QH"
      },
      "execution_count": null,
      "outputs": []
    },
    {
      "cell_type": "code",
      "source": [
        "#creating new vars (logs of non categorical nor binary vars for example) if needed\n",
        "df_copy['DayMins_per_call'] = round(df['DayMins']/(df['DayCalls']),2)"
      ],
      "metadata": {
        "id": "12yXQGVJUnF2"
      },
      "execution_count": 14,
      "outputs": []
    },
    {
      "cell_type": "code",
      "source": [
        "#visualazing correlation matrix\n",
        "import seaborn as sns \n",
        "# Let's calculate the correlations\n",
        "df_corr = df_copy.corr()\n",
        "\n",
        "# Plot correlations\n",
        "# Remove upper triangle\n",
        "palette = sns.color_palette(\"mako\", as_cmap=True)\n",
        "fig, ax = plt.subplots(figsize=(14,8))\n",
        "mask = np.zeros_like(df_corr, dtype=np.bool)\n",
        "mask[np.triu_indices_from(mask)] = True\n",
        "ax = sns.heatmap(df_corr, mask = mask, annot = True, cmap = palette)"
      ],
      "metadata": {
        "id": "u7u0dvmZfZd5",
        "colab": {
          "base_uri": "https://localhost:8080/",
          "height": 634
        },
        "outputId": "c938baeb-4458-4eda-fffe-657a78b29543"
      },
      "execution_count": 15,
      "outputs": [
        {
          "output_type": "stream",
          "name": "stderr",
          "text": [
            "/usr/local/lib/python3.7/dist-packages/ipykernel_launcher.py:10: DeprecationWarning: `np.bool` is a deprecated alias for the builtin `bool`. To silence this warning, use `bool` by itself. Doing this will not modify any behavior and is safe. If you specifically wanted the numpy scalar type, use `np.bool_` here.\n",
            "Deprecated in NumPy 1.20; for more details and guidance: https://numpy.org/devdocs/release/1.20.0-notes.html#deprecations\n",
            "  # Remove the CWD from sys.path while we load stuff.\n"
          ]
        },
        {
          "output_type": "display_data",
          "data": {
            "text/plain": [
              "<Figure size 1008x576 with 2 Axes>"
            ],
            "image/png": "[encoded data removed]"
          },
          "metadata": {
            "needs_background": "light"
          }
        }
      ]
    },
    {
      "cell_type": "code",
      "source": [
        "#separating into x and y and standardizing x. Not creating train and test sets yet\n",
        "not_standardize_list = binaries\n",
        "if TARGET not in binaries:\n",
        "  not_standardize_list.append(TARGET)\n",
        "\n",
        "df_scaled = careful_standardization(df_copy, not_standardize_list)\n",
        "X = df_scaled.drop(columns=[TARGET])\n",
        "y = df_scaled[TARGET]\n",
        "\n",
        "df_scaled.head(4)"
      ],
      "metadata": {
        "id": "1DVanRkWfgtV",
        "colab": {
          "base_uri": "https://localhost:8080/",
          "height": 175
        },
        "outputId": "499be13c-ce94-43b1-cc6b-9fb8e3fce146"
      },
      "execution_count": 12,
      "outputs": [
        {
          "output_type": "execute_result",
          "data": {
            "text/plain": [
              "   AccountWeeks  DataUsage  CustServCalls   DayMins  DayCalls  MonthlyCharge  \\\n",
              "0      0.676489   1.480204      -0.427932  1.566767  0.476643       1.990727   \n",
              "1      0.149065   2.266072      -0.427932 -0.333738  1.124503       1.564510   \n",
              "2      0.902529  -0.641642      -1.188218  1.168304  0.675985      -0.262133   \n",
              "3     -0.428590  -0.641642       0.332354  2.196596 -1.466936       0.042307   \n",
              "\n",
              "   OverageFee  RoamMins  Churn  ContractRenewal  DataPlan  \n",
              "0   -0.071584 -0.085008      0                1         1  \n",
              "1   -0.107082  1.240482      0                1         1  \n",
              "2   -1.574346  0.703121      0                1         0  \n",
              "3   -2.741846 -1.303026      0                0         0  "
            ],
            "text/html": [
              "\n",
              "  <div id=\"df-116f20fa-3381-45fc-a457-16666f08090a\">\n",
              "    <div class=\"colab-df-container\">\n",
              "      <div>\n",
              "<style scoped>\n",
              "    .dataframe tbody tr th:only-of-type {\n",
              "        vertical-align: middle;\n",
              "    }\n",
              "\n",
              "    .dataframe tbody tr th {\n",
              "        vertical-align: top;\n",
              "    }\n",
              "\n",
              "    .dataframe thead th {\n",
              "        text-align: right;\n",
              "    }\n",
              "</style>\n",
              "<table border=\"1\" class=\"dataframe\">\n",
              "  <thead>\n",
              "    <tr style=\"text-align: right;\">\n",
              "      <th></th>\n",
              "      <th>AccountWeeks</th>\n",
              "      <th>DataUsage</th>\n",
              "      <th>CustServCalls</th>\n",
              "      <th>DayMins</th>\n",
              "      <th>DayCalls</th>\n",
              "      <th>MonthlyCharge</th>\n",
              "      <th>OverageFee</th>\n",
              "      <th>RoamMins</th>\n",
              "      <th>Churn</th>\n",
              "      <th>ContractRenewal</th>\n",
              "      <th>DataPlan</th>\n",
              "    </tr>\n",
              "  </thead>\n",
              "  <tbody>\n",
              "    <tr>\n",
              "      <th>0</th>\n",
              "      <td>0.676489</td>\n",
              "      <td>1.480204</td>\n",
              "      <td>-0.427932</td>\n",
              "      <td>1.566767</td>\n",
              "      <td>0.476643</td>\n",
              "      <td>1.990727</td>\n",
              "      <td>-0.071584</td>\n",
              "      <td>-0.085008</td>\n",
              "      <td>0</td>\n",
              "      <td>1</td>\n",
              "      <td>1</td>\n",
              "    </tr>\n",
              "    <tr>\n",
              "      <th>1</th>\n",
              "      <td>0.149065</td>\n",
              "      <td>2.266072</td>\n",
              "      <td>-0.427932</td>\n",
              "      <td>-0.333738</td>\n",
              "      <td>1.124503</td>\n",
              "      <td>1.564510</td>\n",
              "      <td>-0.107082</td>\n",
              "      <td>1.240482</td>\n",
              "      <td>0</td>\n",
              "      <td>1</td>\n",
              "      <td>1</td>\n",
              "    </tr>\n",
              "    <tr>\n",
              "      <th>2</th>\n",
              "      <td>0.902529</td>\n",
              "      <td>-0.641642</td>\n",
              "      <td>-1.188218</td>\n",
              "      <td>1.168304</td>\n",
              "      <td>0.675985</td>\n",
              "      <td>-0.262133</td>\n",
              "      <td>-1.574346</td>\n",
              "      <td>0.703121</td>\n",
              "      <td>0</td>\n",
              "      <td>1</td>\n",
              "      <td>0</td>\n",
              "    </tr>\n",
              "    <tr>\n",
              "      <th>3</th>\n",
              "      <td>-0.428590</td>\n",
              "      <td>-0.641642</td>\n",
              "      <td>0.332354</td>\n",
              "      <td>2.196596</td>\n",
              "      <td>-1.466936</td>\n",
              "      <td>0.042307</td>\n",
              "      <td>-2.741846</td>\n",
              "      <td>-1.303026</td>\n",
              "      <td>0</td>\n",
              "      <td>0</td>\n",
              "      <td>0</td>\n",
              "    </tr>\n",
              "  </tbody>\n",
              "</table>\n",
              "</div>\n",
              "      <button class=\"colab-df-convert\" onclick=\"convertToInteractive('df-116f20fa-3381-45fc-a457-16666f08090a')\"\n",
              "              title=\"Convert this dataframe to an interactive table.\"\n",
              "              style=\"display:none;\">\n",
              "        \n",
              "  <svg xmlns=\"http://www.w3.org/2000/svg\" height=\"24px\"viewBox=\"0 0 24 24\"\n",
              "       width=\"24px\">\n",
              "    <path d=\"M0 0h24v24H0V0z\" fill=\"none\"/>\n",
              "    <path d=\"M18.56 5.44l.94 2.06.94-2.06 2.06-.94-2.06-.94-.94-2.06-.94 2.06-2.06.94zm-11 1L8.5 8.5l.94-2.06 2.06-.94-2.06-.94L8.5 2.5l-.94 2.06-2.06.94zm10 10l.94 2.06.94-2.06 2.06-.94-2.06-.94-.94-2.06-.94 2.06-2.06.94z\"/><path d=\"M17.41 7.96l-1.37-1.37c-.4-.4-.92-.59-1.43-.59-.52 0-1.04.2-1.43.59L10.3 9.45l-7.72 7.72c-.78.78-.78 2.05 0 2.83L4 21.41c.39.39.9.59 1.41.59.51 0 1.02-.2 1.41-.59l7.78-7.78 2.81-2.81c.8-.78.8-2.07 0-2.86zM5.41 20L4 18.59l7.72-7.72 1.47 1.35L5.41 20z\"/>\n",
              "  </svg>\n",
              "      </button>\n",
              "      \n",
              "  <style>\n",
              "    .colab-df-container {\n",
              "      display:flex;\n",
              "      flex-wrap:wrap;\n",
              "      gap: 12px;\n",
              "    }\n",
              "\n",
              "    .colab-df-convert {\n",
              "      background-color: #E8F0FE;\n",
              "      border: none;\n",
              "      border-radius: 50%;\n",
              "      cursor: pointer;\n",
              "      display: none;\n",
              "      fill: #1967D2;\n",
              "      height: 32px;\n",
              "      padding: 0 0 0 0;\n",
              "      width: 32px;\n",
              "    }\n",
              "\n",
              "    .colab-df-convert:hover {\n",
              "      background-color: #E2EBFA;\n",
              "      box-shadow: 0px 1px 2px rgba(60, 64, 67, 0.3), 0px 1px 3px 1px rgba(60, 64, 67, 0.15);\n",
              "      fill: #174EA6;\n",
              "    }\n",
              "\n",
              "    [theme=dark] .colab-df-convert {\n",
              "      background-color: #3B4455;\n",
              "      fill: #D2E3FC;\n",
              "    }\n",
              "\n",
              "    [theme=dark] .colab-df-convert:hover {\n",
              "      background-color: #434B5C;\n",
              "      box-shadow: 0px 1px 3px 1px rgba(0, 0, 0, 0.15);\n",
              "      filter: drop-shadow(0px 1px 2px rgba(0, 0, 0, 0.3));\n",
              "      fill: #FFFFFF;\n",
              "    }\n",
              "  </style>\n",
              "\n",
              "      <script>\n",
              "        const buttonEl =\n",
              "          document.querySelector('#df-116f20fa-3381-45fc-a457-16666f08090a button.colab-df-convert');\n",
              "        buttonEl.style.display =\n",
              "          google.colab.kernel.accessAllowed ? 'block' : 'none';\n",
              "\n",
              "        async function convertToInteractive(key) {\n",
              "          const element = document.querySelector('#df-116f20fa-3381-45fc-a457-16666f08090a');\n",
              "          const dataTable =\n",
              "            await google.colab.kernel.invokeFunction('convertToInteractive',\n",
              "                                                     [key], {});\n",
              "          if (!dataTable) return;\n",
              "\n",
              "          const docLinkHtml = 'Like what you see? Visit the ' +\n",
              "            '<a target=\"_blank\" href=https://colab.research.google.com/notebooks/data_table.ipynb>data table notebook</a>'\n",
              "            + ' to learn more about interactive tables.';\n",
              "          element.innerHTML = '';\n",
              "          dataTable['output_type'] = 'display_data';\n",
              "          await google.colab.output.renderOutput(dataTable, element);\n",
              "          const docLink = document.createElement('div');\n",
              "          docLink.innerHTML = docLinkHtml;\n",
              "          element.appendChild(docLink);\n",
              "        }\n",
              "      </script>\n",
              "    </div>\n",
              "  </div>\n",
              "  "
            ]
          },
          "metadata": {},
          "execution_count": 12
        }
      ]
    },
    {
      "cell_type": "markdown",
      "source": [
        "# Model analysis"
      ],
      "metadata": {
        "id": "t1YtEW1DfoFo"
      }
    },
    {
      "cell_type": "markdown",
      "source": [
        "is this a regression or classification? not sure..."
      ],
      "metadata": {
        "id": "W0zfZt8fifb3"
      }
    },
    {
      "cell_type": "code",
      "source": [
        "#separating data into train and test\n",
        "kf = KFold(n_splits = 5, shuffle = True, random_state = SEED)"
      ],
      "metadata": {
        "id": "8_PZslnofqK9"
      },
      "execution_count": 36,
      "outputs": []
    },
    {
      "cell_type": "code",
      "source": [
        "#creating Randomized search for hyperParameter tunning\n",
        "\n",
        "# Number of trees in random forest\n",
        "n_estimators = [int(x) for x in np.linspace(start = 200, stop = 2000, num = 10)]\n",
        "# Number of features to consider at every split\n",
        "max_features = ['auto', 'sqrt']\n",
        "# Maximum number of levels in tree\n",
        "max_depth = [int(x) for x in np.linspace(10, 110, num = 11)]\n",
        "max_depth.append(None)\n",
        "# Minimum number of samples required to split a node\n",
        "min_samples_split = [2, 5, 10]\n",
        "# Minimum number of samples required at each leaf node\n",
        "min_samples_leaf = [1, 2, 4]\n",
        "# Method of selecting samples for training each tree\n",
        "bootstrap = [True, False]\n",
        "# Create the random grid\n",
        "\n",
        "random_grid = {'n_estimators': n_estimators,\n",
        "               'max_features': max_features,\n",
        "               'max_depth': max_depth,\n",
        "               'min_samples_split': min_samples_split,\n",
        "               'min_samples_leaf': min_samples_leaf,\n",
        "               'bootstrap': bootstrap}\n",
        "print(random_grid)\n"
      ],
      "metadata": {
        "colab": {
          "base_uri": "https://localhost:8080/"
        },
        "id": "7WJWOOgiI-sz",
        "outputId": "59d5ca00-1193-49f7-c59a-9dc2c4664a18"
      },
      "execution_count": 56,
      "outputs": [
        {
          "output_type": "stream",
          "name": "stdout",
          "text": [
            "{'n_estimators': [200, 400, 600, 800, 1000, 1200, 1400, 1600, 1800, 2000], 'max_features': ['auto', 'sqrt'], 'max_depth': [10, 20, 30, 40, 50, 60, 70, 80, 90, 100, 110, None], 'min_samples_split': [2, 5, 10], 'min_samples_leaf': [1, 2, 4], 'bootstrap': [True, False]}\n"
          ]
        }
      ]
    },
    {
      "cell_type": "code",
      "source": [
        "#Algorithm implemented with cross-validation. #At least Random Forest and Xgboost are used.\n",
        "#Cross-validation used\n",
        "#AUC score given\n",
        "#Hyperparameter optimization\n",
        "#maybe we can define a set of functions that work together to loop through all the hyper parameters\n",
        "#trying to find the optimum point. Maybe we can try regression and classification? Dont know\n",
        "#which one will be the best one as we only have to give a 1/0 as a prediction. maybe regression together with\n",
        "#optimizing for the best threshold using the f1 socre gives good results.\n",
        "forest_class = RandomForestClassifier()\n",
        "\n",
        "clf = RandomizedSearchCV(forest_class, random_grid, n_iter=10, scoring = \"f1\", n_jobs = 8, random_state=SEED, cv = 2)\n",
        "\n",
        "best_score = 0\n",
        "final_model = None\n",
        "final_y_test = None\n",
        "f1s = []\n",
        "for train_index, test_index in kf.split(X):\n",
        "\n",
        "    X_train, X_test = np.matrix(X)[train_index], np.matrix(X)[test_index]\n",
        "    y_train, y_test = np.array(y)[train_index], np.array(y)[test_index]\n",
        "\n",
        "    clf.fit(X_train, y_train)\n",
        "\n",
        "    y_pred = clf.predict(X_test)\n",
        "    f1_sc = f1_score(y_test, y_pred)\n",
        "    f1s.append(f1_sc)\n",
        "\n",
        "    if f1_sc > best_score:\n",
        "      best_score = f1_sc\n",
        "      final_model = clf\n"
      ],
      "metadata": {
        "id": "Tfl9VwVlo0RK",
        "colab": {
          "base_uri": "https://localhost:8080/"
        },
        "outputId": "5250a465-db70-4412-e6a9-f1aa098b2a6a"
      },
      "execution_count": null,
      "outputs": [
        {
          "output_type": "stream",
          "name": "stderr",
          "text": [
            "/usr/local/lib/python3.7/dist-packages/sklearn/utils/validation.py:598: FutureWarning: np.matrix usage is deprecated in 1.0 and will raise a TypeError in 1.2. Please convert to a numpy array with np.asarray. For more information see: https://numpy.org/doc/stable/reference/generated/numpy.matrix.html\n",
            "  FutureWarning,\n",
            "/usr/local/lib/python3.7/dist-packages/sklearn/utils/validation.py:598: FutureWarning: np.matrix usage is deprecated in 1.0 and will raise a TypeError in 1.2. Please convert to a numpy array with np.asarray. For more information see: https://numpy.org/doc/stable/reference/generated/numpy.matrix.html\n",
            "  FutureWarning,\n",
            "/usr/local/lib/python3.7/dist-packages/sklearn/utils/validation.py:598: FutureWarning: np.matrix usage is deprecated in 1.0 and will raise a TypeError in 1.2. Please convert to a numpy array with np.asarray. For more information see: https://numpy.org/doc/stable/reference/generated/numpy.matrix.html\n",
            "  FutureWarning,\n",
            "/usr/local/lib/python3.7/dist-packages/sklearn/utils/validation.py:598: FutureWarning: np.matrix usage is deprecated in 1.0 and will raise a TypeError in 1.2. Please convert to a numpy array with np.asarray. For more information see: https://numpy.org/doc/stable/reference/generated/numpy.matrix.html\n",
            "  FutureWarning,\n",
            "/usr/local/lib/python3.7/dist-packages/sklearn/utils/validation.py:598: FutureWarning: np.matrix usage is deprecated in 1.0 and will raise a TypeError in 1.2. Please convert to a numpy array with np.asarray. For more information see: https://numpy.org/doc/stable/reference/generated/numpy.matrix.html\n",
            "  FutureWarning,\n",
            "/usr/local/lib/python3.7/dist-packages/sklearn/utils/validation.py:598: FutureWarning: np.matrix usage is deprecated in 1.0 and will raise a TypeError in 1.2. Please convert to a numpy array with np.asarray. For more information see: https://numpy.org/doc/stable/reference/generated/numpy.matrix.html\n",
            "  FutureWarning,\n",
            "/usr/local/lib/python3.7/dist-packages/sklearn/utils/validation.py:598: FutureWarning: np.matrix usage is deprecated in 1.0 and will raise a TypeError in 1.2. Please convert to a numpy array with np.asarray. For more information see: https://numpy.org/doc/stable/reference/generated/numpy.matrix.html\n",
            "  FutureWarning,\n",
            "/usr/local/lib/python3.7/dist-packages/sklearn/utils/validation.py:598: FutureWarning: np.matrix usage is deprecated in 1.0 and will raise a TypeError in 1.2. Please convert to a numpy array with np.asarray. For more information see: https://numpy.org/doc/stable/reference/generated/numpy.matrix.html\n",
            "  FutureWarning,\n"
          ]
        }
      ]
    },
    {
      "cell_type": "code",
      "source": [
        "#RandomForestClassifier\n",
        "forest_class = RandomForestClassifier()\n",
        "forest_class.fit(X_train, y_train)\n",
        "\n",
        "print(accuracy_score(y_test, forest_class.predict(X_test)))\n",
        "print(f1_score(y_test, forest_class.predict(X_test)))"
      ],
      "metadata": {
        "colab": {
          "base_uri": "https://localhost:8080/"
        },
        "id": "2nfpmuVNAN7s",
        "outputId": "5c7e26ac-3cbd-4474-961e-4607cca409c8"
      },
      "execution_count": 30,
      "outputs": [
        {
          "output_type": "stream",
          "name": "stdout",
          "text": [
            "0.9370314842578711\n",
            "0.7558139534883722\n"
          ]
        }
      ]
    },
    {
      "cell_type": "code",
      "source": [
        "#results visualization. ROC curve of both, features importances, confusion matrix"
      ],
      "metadata": {
        "id": "NHLYPQp4pbTr"
      },
      "execution_count": null,
      "outputs": []
    }
  ],
  "metadata": {
    "colab": {
      "provenance": []
    },
    "kernelspec": {
      "display_name": "Python 3 (ipykernel)",
      "language": "python",
      "name": "python3"
    },
    "language_info": {
      "codemirror_mode": {
        "name": "ipython",
        "version": 3
      },
      "file_extension": ".py",
      "mimetype": "text/x-python",
      "name": "python",
      "nbconvert_exporter": "python",
      "pygments_lexer": "ipython3",
      "version": "3.9.12"
    },
    "toc": {
      "base_numbering": 1,
      "nav_menu": {},
      "number_sections": true,
      "sideBar": true,
      "skip_h1_title": false,
      "title_cell": "Table of Contents",
      "title_sidebar": "Contents",
      "toc_cell": false,
      "toc_position": {},
      "toc_section_display": true,
      "toc_window_display": false
    }
  },
  "nbformat": 4,
  "nbformat_minor": 0
}